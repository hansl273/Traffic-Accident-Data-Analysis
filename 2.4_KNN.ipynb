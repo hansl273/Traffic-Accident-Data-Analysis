{
 "cells": [
  {
   "cell_type": "code",
   "execution_count": 1,
   "id": "48565b90",
   "metadata": {},
   "outputs": [],
   "source": [
    "import matplotlib as mpl\n",
    "import matplotlib.pyplot as plt\n",
    "import pandas as pd\n",
    "import seaborn as sns\n",
    "import numpy as np\n",
    "import matplotlib\n",
    "import matplotlib.font_manager as fm\n",
    "import matplotlib.patheffects as path_effects\n",
    "from sklearn.neighbors import KNeighborsClassifier\n",
    "from sklearn.model_selection import train_test_split\n",
    "from sklearn.metrics import accuracy_score, recall_score, confusion_matrix\n",
    "from sklearn.metrics import f1_score"
   ]
  },
  {
   "cell_type": "code",
   "execution_count": 2,
   "id": "19862697",
   "metadata": {},
   "outputs": [],
   "source": [
    "# 한글 깨짐 방지\n",
    "import matplotlib\n",
    "import matplotlib.font_manager as fm\n",
    "# fm._rebuild()\n",
    "fm.get_fontconfig_fonts()\n",
    "font_location = 'C:/Users/ASIA-19/교통사고/NanumGothic.ttf' # 폰트 파일 이름, 디렉토리 주의\n",
    "font_name = fm.FontProperties(fname=font_location).get_name()\n",
    "matplotlib.rc('font', family=font_name)"
   ]
  },
  {
   "cell_type": "code",
   "execution_count": 3,
   "id": "3d043a96",
   "metadata": {},
   "outputs": [],
   "source": [
    "file = r\"D:/work/python/a-truck-accident/data/cleandata_final.xlsx\"\n",
    "df = pd.read_excel(file, sheet_name=\"Sheet1\")"
   ]
  },
  {
   "cell_type": "code",
   "execution_count": 4,
   "id": "bc2804ca",
   "metadata": {},
   "outputs": [
    {
     "name": "stdout",
     "output_type": "stream",
     "text": [
      "   사고발생시각  일일 교통량  일일 교통량 평균  일일 속도평균  일일 속도75%  고속도로 교통량  고속도로별 로드킬  요일  \\\n",
      "0       1  670656        207       91       108     72960         59   3   \n",
      "1       1  677088        241       94       108     72960         59   6   \n",
      "2       3  677088        241       94       108     72960         59   6   \n",
      "3       1  676800        245       89       104     72960         59   5   \n",
      "4       3  676800        245       89       104     72960         59   5   \n",
      "\n",
      "   제한차량_과적  제한차량_적불  ...      교통사고비용  위험운전행동  화물_관용  화물_자가용  화물_영업용  화물등록_계  \\\n",
      "0     2758     3491  ...   5245000.0       0   2888  291305   23787  317980   \n",
      "1     6875     7701  ...  69085100.0       1   5582  682010  113674  801266   \n",
      "2     6875     7701  ...  12993100.0       1   5582  682010  113674  801266   \n",
      "3      944     1653  ...  10490000.0       1   1615  153093   33635  188343   \n",
      "4     6875     7701  ...  15735000.0       0   5582  682010  113674  801266   \n",
      "\n",
      "   주행거리당 사망수  시도별_진료비  연령별_가해진료비  연령별_피해진료비  \n",
      "0       17.6   110704     131781     100816  \n",
      "1        7.4   111105     104964     104964  \n",
      "2        7.4   111105     131781     109692  \n",
      "3        5.0   122906     100816     131781  \n",
      "4        7.4   111105     100816     104964  \n",
      "\n",
      "[5 rows x 26 columns]\n"
     ]
    }
   ],
   "source": [
    "print(df.head())"
   ]
  },
  {
   "cell_type": "code",
   "execution_count": 5,
   "id": "ab3767b6",
   "metadata": {
    "scrolled": true
   },
   "outputs": [
    {
     "data": {
      "text/plain": [
       "사고발생시각          0\n",
       "일일 교통량          0\n",
       "일일 교통량 평균       0\n",
       "일일 속도평균         0\n",
       "일일 속도75%        0\n",
       "고속도로 교통량        0\n",
       "고속도로별 로드킬       0\n",
       "요일              0\n",
       "제한차량_과적         0\n",
       "제한차량_적불         0\n",
       "화물평균일교통량        0\n",
       "부상자수            0\n",
       "사망              0\n",
       "사고유형_사람_차_단독    0\n",
       "안전운전불이행         0\n",
       "가해연령대           0\n",
       "교통사고비용          0\n",
       "위험운전행동          0\n",
       "화물_관용           0\n",
       "화물_자가용          0\n",
       "화물_영업용          0\n",
       "화물등록_계          0\n",
       "주행거리당 사망수       0\n",
       "시도별_진료비         0\n",
       "연령별_가해진료비       0\n",
       "연령별_피해진료비       0\n",
       "dtype: int64"
      ]
     },
     "execution_count": 5,
     "metadata": {},
     "output_type": "execute_result"
    }
   ],
   "source": [
    "#결측치 제거\n",
    "df.isnull().sum()"
   ]
  },
  {
   "cell_type": "code",
   "execution_count": 6,
   "id": "cdf2558e",
   "metadata": {},
   "outputs": [
    {
     "name": "stdout",
     "output_type": "stream",
     "text": [
      "Index(['사고발생시각', '일일 교통량', '일일 교통량 평균', '일일 속도평균', '일일 속도75%', '고속도로 교통량',\n",
      "       '고속도로별 로드킬', '요일', '제한차량_과적', '제한차량_적불', '화물평균일교통량', '부상자수', '사망',\n",
      "       '사고유형_사람_차_단독', '안전운전불이행', '가해연령대', '교통사고비용', '위험운전행동', '화물_관용',\n",
      "       '화물_자가용', '화물_영업용', '화물등록_계', '주행거리당 사망수', '시도별_진료비', '연령별_가해진료비',\n",
      "       '연령별_피해진료비'],\n",
      "      dtype='object')\n"
     ]
    }
   ],
   "source": [
    "print(df.columns)"
   ]
  },
  {
   "cell_type": "code",
   "execution_count": 7,
   "id": "05d7dbb6",
   "metadata": {},
   "outputs": [
    {
     "name": "stdout",
     "output_type": "stream",
     "text": [
      "(2090, 23)\n",
      "(2090,)\n",
      "(523, 23)\n",
      "(523,)\n"
     ]
    }
   ],
   "source": [
    "# KNeighborsClassifier\n",
    "\n",
    "# # 기술 속성(descriptive features)\n",
    "X = df.drop(['사망', '부상자수', '교통사고비용'], axis=1)\n",
    "# # 대상 속성(target feature)\n",
    "Y = df['사망']\n",
    "\n",
    "X_train, X_test, Y_train, Y_test = train_test_split(X, Y, test_size=0.2,  stratify=Y)\n",
    "# X_train, X_test, Y_train, Y_test = train_test_split(X, Y, test_size=0.25, random_state=10)\n",
    "\n",
    "print(X_train.shape)\n",
    "print(Y_train.shape)\n",
    "print(X_test.shape)\n",
    "print(Y_test.shape)"
   ]
  },
  {
   "cell_type": "code",
   "execution_count": 8,
   "id": "423308c1",
   "metadata": {},
   "outputs": [],
   "source": [
    "# #데이터를 표준화 시킴\n",
    "# from sklearn.preprocessing import StandardScaler\n",
    "\n",
    "\n",
    "# #훈련용 뿐만 아니라 테스트용도 같이 \n",
    "\n",
    "# ss = StandardScaler()\n",
    "# ss.fit(X_train)\n",
    "# train_scaled = ss.transform(X_train)\n",
    "# test_scaled = ss.transform(X_test)"
   ]
  },
  {
   "cell_type": "code",
   "execution_count": 9,
   "id": "a878abdb",
   "metadata": {},
   "outputs": [
    {
     "data": {
      "text/plain": [
       "0    1919\n",
       "1     171\n",
       "Name: 사망, dtype: int64"
      ]
     },
     "execution_count": 9,
     "metadata": {},
     "output_type": "execute_result"
    }
   ],
   "source": [
    "# ▶ stratify='Y' 옵션 결과 확인\n",
    "pd.Series(Y_train).value_counts()"
   ]
  },
  {
   "cell_type": "code",
   "execution_count": 10,
   "id": "8bdb40dd",
   "metadata": {},
   "outputs": [
    {
     "data": {
      "text/plain": [
       "0.08954154727793696"
      ]
     },
     "execution_count": 10,
     "metadata": {},
     "output_type": "execute_result"
    }
   ],
   "source": [
    "125/(1271+125)"
   ]
  },
  {
   "cell_type": "code",
   "execution_count": 11,
   "id": "4f20547e",
   "metadata": {},
   "outputs": [
    {
     "data": {
      "text/plain": [
       "0    480\n",
       "1     43\n",
       "Name: 사망, dtype: int64"
      ]
     },
     "execution_count": 11,
     "metadata": {},
     "output_type": "execute_result"
    }
   ],
   "source": [
    "# ▶ stratify='Y' 옵션 결과 확인\n",
    "pd.Series(Y_test).value_counts()"
   ]
  },
  {
   "cell_type": "code",
   "execution_count": 12,
   "id": "a7c523c3",
   "metadata": {},
   "outputs": [
    {
     "data": {
      "text/plain": [
       "0.09012875536480687"
      ]
     },
     "execution_count": 12,
     "metadata": {},
     "output_type": "execute_result"
    }
   ],
   "source": [
    "42/(424+42)"
   ]
  },
  {
   "cell_type": "markdown",
   "id": "4828799b",
   "metadata": {},
   "source": [
    "· 모델 학습 및 평가\n",
    "모델을 학습하고 예측을 수행하여 성능을 평가"
   ]
  },
  {
   "cell_type": "code",
   "execution_count": 13,
   "id": "409a29e7",
   "metadata": {},
   "outputs": [
    {
     "name": "stdout",
     "output_type": "stream",
     "text": [
      "              precision    recall  f1-score   support\n",
      "\n",
      "           0       0.92      1.00      0.96      1919\n",
      "           1       0.73      0.06      0.12       171\n",
      "\n",
      "    accuracy                           0.92      2090\n",
      "   macro avg       0.83      0.53      0.54      2090\n",
      "weighted avg       0.91      0.92      0.89      2090\n",
      "\n",
      "              precision    recall  f1-score   support\n",
      "\n",
      "           0       0.92      0.99      0.95       480\n",
      "           1       0.00      0.00      0.00        43\n",
      "\n",
      "    accuracy                           0.91       523\n",
      "   macro avg       0.46      0.50      0.48       523\n",
      "weighted avg       0.84      0.91      0.87       523\n",
      "\n"
     ]
    }
   ],
   "source": [
    "# ▶ 모델 학습\n",
    "from sklearn.metrics import classification_report\n",
    "\n",
    "rfc = KNeighborsClassifier()\n",
    "rfc.fit(X_train, Y_train)\n",
    "\n",
    "# ▶ 예측\n",
    "# ▶ 예측은 학습에 사용된 Data와 Test Data 모두 예측하고 평가함(※ 과적합 여부 판별)\n",
    "Y_pred_train = rfc.predict(X_train)\n",
    "Y_pred_test = rfc.predict(X_test)\n",
    "\n",
    "print(classification_report(Y_train, Y_pred_train))\n",
    "print(classification_report(Y_test, Y_pred_test))"
   ]
  },
  {
   "cell_type": "code",
   "execution_count": 14,
   "id": "d1cdd6b1",
   "metadata": {},
   "outputs": [
    {
     "data": {
      "text/plain": [
       "0    2075\n",
       "1      15\n",
       "dtype: int64"
      ]
     },
     "execution_count": 14,
     "metadata": {},
     "output_type": "execute_result"
    }
   ],
   "source": [
    "pd.Series(Y_pred_train).value_counts()"
   ]
  },
  {
   "cell_type": "code",
   "execution_count": 15,
   "id": "5c3a486b",
   "metadata": {},
   "outputs": [
    {
     "data": {
      "text/plain": [
       "0    519\n",
       "1      4\n",
       "dtype: int64"
      ]
     },
     "execution_count": 15,
     "metadata": {},
     "output_type": "execute_result"
    }
   ],
   "source": [
    "# ▶ Q. [Test] Precision = 0.60, threshold = ? ↓(base:0.5), Recall = ?\n",
    "pd.Series(Y_pred_test).value_counts()"
   ]
  },
  {
   "cell_type": "code",
   "execution_count": 16,
   "id": "99f0de02",
   "metadata": {},
   "outputs": [
    {
     "name": "stdout",
     "output_type": "stream",
     "text": [
      "              precision    recall  f1-score   support\n",
      "\n",
      "           0       0.92      0.66      0.77       480\n",
      "           1       0.09      0.40      0.15        43\n",
      "\n",
      "    accuracy                           0.64       523\n",
      "   macro avg       0.51      0.53      0.46       523\n",
      "weighted avg       0.86      0.64      0.72       523\n",
      "\n"
     ]
    }
   ],
   "source": [
    "from sklearn.preprocessing import Binarizer\n",
    "\n",
    "# ▶ threshold를 증가시키면, 진짜 정답일 데이터를 예측할 것이므로 precision 값이 증가 (※ 예측하는 개수 감소)\n",
    "# ▶ threshold를 감소시키면, 조금 이라도 가능성이 있는 정답을 더 많이 예측하므로 recall 값이 증가 (※ 예측하는 개수 증가)\n",
    "# Input_threshold = 0.405\n",
    "Input_threshold = 0.100\n",
    "\n",
    "pred_proba_test = rfc.predict_proba(X_test)[:,1].reshape(-1,1)\n",
    "custom_predict = Binarizer(threshold=Input_threshold).fit_transform(pred_proba_test)\n",
    "\n",
    "# ▶ 성능평가 확인\n",
    "print(classification_report(Y_test, custom_predict))"
   ]
  },
  {
   "cell_type": "code",
   "execution_count": 17,
   "id": "2fa5a29e",
   "metadata": {},
   "outputs": [
    {
     "data": {
      "text/plain": [
       "0.0    343\n",
       "1.0    180\n",
       "dtype: int64"
      ]
     },
     "execution_count": 17,
     "metadata": {},
     "output_type": "execute_result"
    }
   ],
   "source": [
    "pd.Series(custom_predict.reshape(-1)).value_counts()"
   ]
  },
  {
   "cell_type": "code",
   "execution_count": 18,
   "id": "3c02a799",
   "metadata": {},
   "outputs": [
    {
     "name": "stdout",
     "output_type": "stream",
     "text": [
      "roc_score_train : 0.8884531112391016\n",
      "roc_score_test : 0.5306686046511628\n"
     ]
    }
   ],
   "source": [
    "# ▶ 과적합 문제, Train과 Test set에 성능을 최대한 줄여주는 것이 과적합을 방지\n",
    "from sklearn.metrics import roc_auc_score\n",
    "\n",
    "Y_pred_train_proba = rfc.predict_proba(X_train)[:, 1] \n",
    "Y_pred_test_proba = rfc.predict_proba(X_test)[:, 1] \n",
    "\n",
    "\n",
    "roc_score_train = roc_auc_score(Y_train, Y_pred_train_proba)\n",
    "roc_score_test = roc_auc_score(Y_test, Y_pred_test_proba)\n",
    "\n",
    "print(\"roc_score_train :\", roc_score_train)\n",
    "print(\"roc_score_test :\", roc_score_test)"
   ]
  },
  {
   "cell_type": "code",
   "execution_count": 19,
   "id": "b239c81f",
   "metadata": {},
   "outputs": [],
   "source": [
    "from sklearn.metrics import roc_curve\n",
    "def roc_curve_plot(Y_test , pred_proba_c1):\n",
    "    # 임곗값에 따른 FPR, TPR 값을 반환 받음. \n",
    "    fprs , tprs , thresholds = roc_curve(Y_test ,pred_proba_c1)\n",
    "\n",
    "    # ROC Curve를 plot 곡선으로 그림. \n",
    "    plt.plot(fprs , tprs, label='ROC')\n",
    "    # 가운데 대각선 직선을 그림. \n",
    "    plt.plot([0, 1], [0, 1], 'k--', label='KNN', color='red')\n",
    "  \n",
    "    # FPR X 축의 Scale을 0.1 단위로 변경, X,Y 축명 설정등   \n",
    "    start, end = plt.xlim()\n",
    "    plt.xticks(np.round(np.arange(start, end, 0.1),2))\n",
    "    plt.xlim(0,1)\n",
    "    plt.ylim(0,1)\n",
    "    plt.xlabel('FPR( 1 - Sensitivity )')\n",
    "    plt.ylabel('TPR( Recall )')\n",
    "    plt.legend()\n",
    "    plt.show()"
   ]
  },
  {
   "cell_type": "code",
   "execution_count": 20,
   "id": "4fa10a6e",
   "metadata": {},
   "outputs": [
    {
     "name": "stderr",
     "output_type": "stream",
     "text": [
      "C:\\Users\\ASIA-19\\AppData\\Local\\Temp/ipykernel_592/1559501954.py:9: UserWarning: color is redundantly defined by the 'color' keyword argument and the fmt string \"k--\" (-> color='k'). The keyword argument will take precedence.\n",
      "  plt.plot([0, 1], [0, 1], 'k--', label='KNN', color='red')\n"
     ]
    },
    {
     "data": {
      "image/png": "[encoded data removed]",
      "text/plain": [
       "<Figure size 432x288 with 1 Axes>"
      ]
     },
     "metadata": {
      "needs_background": "light"
     },
     "output_type": "display_data"
    }
   ],
   "source": [
    "roc_curve_plot(Y_train, Y_pred_train_proba)"
   ]
  },
  {
   "cell_type": "code",
   "execution_count": 21,
   "id": "63b2a21f",
   "metadata": {},
   "outputs": [
    {
     "name": "stderr",
     "output_type": "stream",
     "text": [
      "C:\\Users\\ASIA-19\\AppData\\Local\\Temp/ipykernel_592/1559501954.py:9: UserWarning: color is redundantly defined by the 'color' keyword argument and the fmt string \"k--\" (-> color='k'). The keyword argument will take precedence.\n",
      "  plt.plot([0, 1], [0, 1], 'k--', label='KNN', color='red')\n"
     ]
    },
    {
     "data": {
      "image/png": "[encoded data removed]",
      "text/plain": [
       "<Figure size 432x288 with 1 Axes>"
      ]
     },
     "metadata": {
      "needs_background": "light"
     },
     "output_type": "display_data"
    }
   ],
   "source": [
    "roc_curve_plot(Y_test, Y_pred_test_proba)"
   ]
  },
  {
   "cell_type": "markdown",
   "id": "c4ee0c0d",
   "metadata": {},
   "source": [
    "· 중요 변수 파악\n",
    "Feature IMP 분석을 통한 중요변수 파악"
   ]
  },
  {
   "cell_type": "markdown",
   "id": "6e0ae352",
   "metadata": {},
   "source": [
    "· 모델 Save and Read\n",
    "최종 모델을 저장 및 다시 불러오기"
   ]
  },
  {
   "cell_type": "code",
   "execution_count": null,
   "id": "7168b499",
   "metadata": {},
   "outputs": [],
   "source": [
    "# import pickle\n",
    "# # 모델 저장\n",
    "# saved_model = pickle.dumps(rfc)\n",
    "\n",
    "# # 모델 Read\n",
    "# clf_from_pickle = pickle.loads(saved_model)"
   ]
  }
 ],
 "metadata": {
  "kernelspec": {
   "display_name": "Python 3 (ipykernel)",
   "language": "python",
   "name": "python3"
  },
  "language_info": {
   "codemirror_mode": {
    "name": "ipython",
    "version": 3
   },
   "file_extension": ".py",
   "mimetype": "text/x-python",
   "name": "python",
   "nbconvert_exporter": "python",
   "pygments_lexer": "ipython3",
   "version": "3.9.7"
  }
 },
 "nbformat": 4,
 "nbformat_minor": 5
}
