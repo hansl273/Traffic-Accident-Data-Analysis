{
 "cells": [
  {
   "cell_type": "code",
   "execution_count": 1,
   "id": "9be44b9d",
   "metadata": {},
   "outputs": [],
   "source": [
    "import matplotlib as mpl\n",
    "import matplotlib.pyplot as plt\n",
    "import pandas as pd\n",
    "import seaborn as sns\n",
    "import numpy as np\n",
    "import matplotlib\n",
    "import matplotlib.font_manager as fm\n",
    "import matplotlib.patheffects as path_effects\n",
    "from sklearn.tree import DecisionTreeClassifier\n",
    "from sklearn.model_selection import train_test_split\n",
    "from sklearn.metrics import accuracy_score, recall_score, confusion_matrix\n",
    "from sklearn.metrics import f1_score"
   ]
  },
  {
   "cell_type": "code",
   "execution_count": 2,
   "id": "081b6ebb",
   "metadata": {},
   "outputs": [],
   "source": [
    "# 한글 깨짐 방지\n",
    "import matplotlib\n",
    "import matplotlib.font_manager as fm\n",
    "# fm._rebuild()\n",
    "fm.get_fontconfig_fonts()\n",
    "font_location = 'C:/Users/ASIA-19/NanumGothic.ttf' # 폰트 파일 이름, 디렉토리 주의\n",
    "font_name = fm.FontProperties(fname=font_location).get_name()\n",
    "matplotlib.rc('font', family=font_name)"
   ]
  },
  {
   "cell_type": "code",
   "execution_count": 5,
   "id": "83b2bd30",
   "metadata": {},
   "outputs": [],
   "source": [
    "file = r\"C:\\Users\\ASIA-19\\Downloads\\clearfile_f.xlsx\"\n",
    "df = pd.read_excel(file, sheet_name=\"ver4\")\n"
   ]
  },
  {
   "cell_type": "code",
   "execution_count": 6,
   "id": "37d7d18e",
   "metadata": {},
   "outputs": [
    {
     "name": "stdout",
     "output_type": "stream",
     "text": [
      "   사망      교통사고비용  사고시각_아침  사고시각_오후  사고시각_저녁    일일 교통량  일일 교통량 평균   일일 속도평균  \\\n",
      "0   0   5245000.0        0        0        1  0.684818   0.461806  0.786667   \n",
      "1   0  26225000.0        0        0        1  0.684607   0.500000  0.906667   \n",
      "2   0  20980000.0        0        1        0  0.669619   0.583333  0.840000   \n",
      "3   0   5245000.0        0        0        0  0.669619   0.593750  0.866667   \n",
      "4   0   5245000.0        0        0        1  0.669197   0.614583  0.800000   \n",
      "\n",
      "   일일 속도75%  고속도로 교통량  ...  피해_화물  피해_그외  위험운전행동  주행거리당 사망수   시도별_진료비  \\\n",
      "0  0.175439  0.393140  ...      1      0     0.0   0.194969  1.000000   \n",
      "1  0.263158  0.535620  ...      1      0     0.0   0.855346  0.794518   \n",
      "2  0.192982  0.569921  ...      1      0     0.0   0.490566  0.425363   \n",
      "3  0.201754  0.089710  ...      1      0     0.0   0.880503  0.291662   \n",
      "4  0.192982  0.994723  ...      1      0     0.0   0.880503  0.291662   \n",
      "\n",
      "   연령별_가해진료비  연령별_피해진료비     화물_관용    화물_자가용    화물_영업용  \n",
      "0   0.023318   0.399606  0.091818  0.095142  0.103068  \n",
      "1   0.023318   0.201880  0.404000  0.310168  0.161922  \n",
      "2   0.023318   0.122428  0.432000  0.372638  0.200358  \n",
      "3   0.023318   0.159558  0.503091  0.411119  0.192247  \n",
      "4   0.023318   0.159558  0.502182  0.412677  0.193854  \n",
      "\n",
      "[5 rows x 50 columns]\n"
     ]
    }
   ],
   "source": [
    "print(df.head())"
   ]
  },
  {
   "cell_type": "code",
   "execution_count": 7,
   "id": "f51193ad",
   "metadata": {
    "scrolled": true
   },
   "outputs": [
    {
     "data": {
      "text/plain": [
       "사망              0\n",
       "교통사고비용          0\n",
       "사고시각_아침         0\n",
       "사고시각_오후         0\n",
       "사고시각_저녁         0\n",
       "일일 교통량          0\n",
       "일일 교통량 평균       0\n",
       "일일 속도평균         0\n",
       "일일 속도75%        0\n",
       "고속도로 교통량        0\n",
       "고속도로별 로드킬       0\n",
       "요일_화            0\n",
       "요일_수            0\n",
       "요일_목            0\n",
       "요일_금            0\n",
       "요일_토            0\n",
       "요일_일            0\n",
       "제한차량_과적         0\n",
       "제한차량_적불         0\n",
       "승용평균일교통량        0\n",
       "버스평균일교통량        0\n",
       "화물평균일교통량.1      0\n",
       "부상자수            0\n",
       "차대차             0\n",
       "단독차량            0\n",
       "법규위반_기타         0\n",
       "법규위반_불법유턴       0\n",
       "법규위반_신호위반       0\n",
       "법규위반_안전거리미확보    0\n",
       "법규위반_안전운전불이행    0\n",
       "법규위반_중앙         0\n",
       "법규위반_차로위반       0\n",
       "화물              0\n",
       "가해연령대_20        0\n",
       "가해연령대_30        0\n",
       "가해연령대_40        0\n",
       "가해연령대_50        0\n",
       "가해연령대_60        0\n",
       "가해연령대_70        0\n",
       "가해연령대_80        0\n",
       "피해_화물           0\n",
       "피해_그외           0\n",
       "위험운전행동          0\n",
       "주행거리당 사망수       0\n",
       "시도별_진료비         0\n",
       "연령별_가해진료비       0\n",
       "연령별_피해진료비       0\n",
       "화물_관용           0\n",
       "화물_자가용          0\n",
       "화물_영업용          0\n",
       "dtype: int64"
      ]
     },
     "execution_count": 7,
     "metadata": {},
     "output_type": "execute_result"
    }
   ],
   "source": [
    "#결측치 제거\n",
    "df.isnull().sum()"
   ]
  },
  {
   "cell_type": "code",
   "execution_count": 8,
   "id": "2d3d37c2",
   "metadata": {},
   "outputs": [
    {
     "name": "stdout",
     "output_type": "stream",
     "text": [
      "Index(['사망', '교통사고비용', '사고시각_아침', '사고시각_오후', '사고시각_저녁', '일일 교통량', '일일 교통량 평균',\n",
      "       '일일 속도평균', '일일 속도75%', '고속도로 교통량', '고속도로별 로드킬', '요일_화', '요일_수', '요일_목',\n",
      "       '요일_금', '요일_토', '요일_일', '제한차량_과적', '제한차량_적불', '승용평균일교통량', '버스평균일교통량',\n",
      "       '화물평균일교통량.1', '부상자수', '차대차', '단독차량', '법규위반_기타', '법규위반_불법유턴',\n",
      "       '법규위반_신호위반', '법규위반_안전거리미확보', '법규위반_안전운전불이행', '법규위반_중앙', '법규위반_차로위반',\n",
      "       '화물', '가해연령대_20', '가해연령대_30', '가해연령대_40', '가해연령대_50', '가해연령대_60',\n",
      "       '가해연령대_70', '가해연령대_80', '피해_화물', '피해_그외', '위험운전행동', '주행거리당 사망수',\n",
      "       '시도별_진료비', '연령별_가해진료비', '연령별_피해진료비', '화물_관용', '화물_자가용', '화물_영업용'],\n",
      "      dtype='object')\n"
     ]
    }
   ],
   "source": [
    "print(df.columns)"
   ]
  },
  {
   "cell_type": "code",
   "execution_count": 9,
   "id": "a7ad8e0b",
   "metadata": {},
   "outputs": [
    {
     "name": "stdout",
     "output_type": "stream",
     "text": [
      "(2088, 47)\n",
      "(2088,)\n",
      "(523, 47)\n",
      "(523,)\n"
     ]
    }
   ],
   "source": [
    "# # 1.의사결정나무\n",
    "from sklearn.ensemble import RandomForestClassifier\n",
    "\n",
    "# # 기술 속성(descriptive features)\n",
    "X = df.drop(['사망', '부상자수', '교통사고비용'], axis=1)\n",
    "# # 대상 속성(target feature)\n",
    "Y = df['사망']\n",
    "\n",
    "X_train, X_test, Y_train, Y_test = train_test_split(X, Y, test_size=0.20,  stratify=Y)\n",
    "# X_train, X_test, Y_train, Y_test = train_test_split(X, Y, test_size=0.2, random_state=10)\n",
    "\n",
    "print(X_train.shape)\n",
    "print(Y_train.shape)\n",
    "print(X_test.shape)\n",
    "print(Y_test.shape)"
   ]
  },
  {
   "cell_type": "code",
   "execution_count": 10,
   "id": "b180ddb7",
   "metadata": {},
   "outputs": [],
   "source": [
    "#데이터를 표준화 시킴\n",
    "from sklearn.preprocessing import StandardScaler\n",
    "\n",
    "\n",
    "#훈련용 뿐만 아니라 테스트용도 같이 \n",
    "\n",
    "ss = StandardScaler()\n",
    "ss.fit(X_train)\n",
    "train_scaled = ss.transform(X_train)\n",
    "test_scaled = ss.transform(X_test)"
   ]
  },
  {
   "cell_type": "code",
   "execution_count": 11,
   "id": "241cec6e",
   "metadata": {},
   "outputs": [
    {
     "data": {
      "text/html": [
       "<style>#sk-container-id-1 {color: black;background-color: white;}#sk-container-id-1 pre{padding: 0;}#sk-container-id-1 div.sk-toggleable {background-color: white;}#sk-container-id-1 label.sk-toggleable__label {cursor: pointer;display: block;width: 100%;margin-bottom: 0;padding: 0.3em;box-sizing: border-box;text-align: center;}#sk-container-id-1 label.sk-toggleable__label-arrow:before {content: \"▸\";float: left;margin-right: 0.25em;color: #696969;}#sk-container-id-1 label.sk-toggleable__label-arrow:hover:before {color: black;}#sk-container-id-1 div.sk-estimator:hover label.sk-toggleable__label-arrow:before {color: black;}#sk-container-id-1 div.sk-toggleable__content {max-height: 0;max-width: 0;overflow: hidden;text-align: left;background-color: #f0f8ff;}#sk-container-id-1 div.sk-toggleable__content pre {margin: 0.2em;color: black;border-radius: 0.25em;background-color: #f0f8ff;}#sk-container-id-1 input.sk-toggleable__control:checked~div.sk-toggleable__content {max-height: 200px;max-width: 100%;overflow: auto;}#sk-container-id-1 input.sk-toggleable__control:checked~label.sk-toggleable__label-arrow:before {content: \"▾\";}#sk-container-id-1 div.sk-estimator input.sk-toggleable__control:checked~label.sk-toggleable__label {background-color: #d4ebff;}#sk-container-id-1 div.sk-label input.sk-toggleable__control:checked~label.sk-toggleable__label {background-color: #d4ebff;}#sk-container-id-1 input.sk-hidden--visually {border: 0;clip: rect(1px 1px 1px 1px);clip: rect(1px, 1px, 1px, 1px);height: 1px;margin: -1px;overflow: hidden;padding: 0;position: absolute;width: 1px;}#sk-container-id-1 div.sk-estimator {font-family: monospace;background-color: #f0f8ff;border: 1px dotted black;border-radius: 0.25em;box-sizing: border-box;margin-bottom: 0.5em;}#sk-container-id-1 div.sk-estimator:hover {background-color: #d4ebff;}#sk-container-id-1 div.sk-parallel-item::after {content: \"\";width: 100%;border-bottom: 1px solid gray;flex-grow: 1;}#sk-container-id-1 div.sk-label:hover label.sk-toggleable__label {background-color: #d4ebff;}#sk-container-id-1 div.sk-serial::before {content: \"\";position: absolute;border-left: 1px solid gray;box-sizing: border-box;top: 0;bottom: 0;left: 50%;z-index: 0;}#sk-container-id-1 div.sk-serial {display: flex;flex-direction: column;align-items: center;background-color: white;padding-right: 0.2em;padding-left: 0.2em;position: relative;}#sk-container-id-1 div.sk-item {position: relative;z-index: 1;}#sk-container-id-1 div.sk-parallel {display: flex;align-items: stretch;justify-content: center;background-color: white;position: relative;}#sk-container-id-1 div.sk-item::before, #sk-container-id-1 div.sk-parallel-item::before {content: \"\";position: absolute;border-left: 1px solid gray;box-sizing: border-box;top: 0;bottom: 0;left: 50%;z-index: -1;}#sk-container-id-1 div.sk-parallel-item {display: flex;flex-direction: column;z-index: 1;position: relative;background-color: white;}#sk-container-id-1 div.sk-parallel-item:first-child::after {align-self: flex-end;width: 50%;}#sk-container-id-1 div.sk-parallel-item:last-child::after {align-self: flex-start;width: 50%;}#sk-container-id-1 div.sk-parallel-item:only-child::after {width: 0;}#sk-container-id-1 div.sk-dashed-wrapped {border: 1px dashed gray;margin: 0 0.4em 0.5em 0.4em;box-sizing: border-box;padding-bottom: 0.4em;background-color: white;}#sk-container-id-1 div.sk-label label {font-family: monospace;font-weight: bold;display: inline-block;line-height: 1.2em;}#sk-container-id-1 div.sk-label-container {text-align: center;}#sk-container-id-1 div.sk-container {/* jupyter's `normalize.less` sets `[hidden] { display: none; }` but bootstrap.min.css set `[hidden] { display: none !important; }` so we also need the `!important` here to be able to override the default hidden behavior on the sphinx rendered scikit-learn.org. See: https://github.com/scikit-learn/scikit-learn/issues/21755 */display: inline-block !important;position: relative;}#sk-container-id-1 div.sk-text-repr-fallback {display: none;}</style><div id=\"sk-container-id-1\" class=\"sk-top-container\"><div class=\"sk-text-repr-fallback\"><pre>DecisionTreeClassifier()</pre><b>In a Jupyter environment, please rerun this cell to show the HTML representation or trust the notebook. <br />On GitHub, the HTML representation is unable to render, please try loading this page with nbviewer.org.</b></div><div class=\"sk-container\" hidden><div class=\"sk-item\"><div class=\"sk-estimator sk-toggleable\"><input class=\"sk-toggleable__control sk-hidden--visually\" id=\"sk-estimator-id-1\" type=\"checkbox\" checked><label for=\"sk-estimator-id-1\" class=\"sk-toggleable__label sk-toggleable__label-arrow\">DecisionTreeClassifier</label><div class=\"sk-toggleable__content\"><pre>DecisionTreeClassifier()</pre></div></div></div></div></div>"
      ],
      "text/plain": [
       "DecisionTreeClassifier()"
      ]
     },
     "execution_count": 11,
     "metadata": {},
     "output_type": "execute_result"
    }
   ],
   "source": [
    "# DT 객체 생성 및 훈련\n",
    "dt_clf = DecisionTreeClassifier()\n",
    "dt_clf.fit(X_train,Y_train)"
   ]
  },
  {
   "cell_type": "code",
   "execution_count": 12,
   "id": "fdd02791",
   "metadata": {},
   "outputs": [],
   "source": [
    "# 예측값 저장\n",
    "Y_pred = dt_clf.predict(X_test)"
   ]
  },
  {
   "cell_type": "raw",
   "id": "27493514",
   "metadata": {},
   "source": [
    "· 모델 학습 및 평가\n",
    "모델을 학습하고 예측을 수행하여 성능을 평가"
   ]
  },
  {
   "cell_type": "code",
   "execution_count": 13,
   "id": "7e51a97e",
   "metadata": {},
   "outputs": [],
   "source": [
    "import sklearn.metrics as mt"
   ]
  },
  {
   "cell_type": "markdown",
   "id": "d7b5418d",
   "metadata": {},
   "source": [
    "!pip install -U pandas-profiling"
   ]
  },
  {
   "cell_type": "code",
   "execution_count": 14,
   "id": "e9a4946c",
   "metadata": {},
   "outputs": [
    {
     "name": "stdout",
     "output_type": "stream",
     "text": [
      "Train_Accuracy:  1.0 \n",
      "\n",
      "Accuracy:  0.85 \n",
      "\n",
      "Recall:  0.14 \n",
      "\n",
      "Precision:  0.12 \n",
      "\n",
      "F1_score:  0.13 \n",
      "\n",
      "Confusion Matrix: \n",
      " [[438  42]\n",
      " [ 37   6]]\n"
     ]
    }
   ],
   "source": [
    "# https://m.blog.naver.com/PostView.naver?isHttpsRedirect=true&blogId=winddori2002&logNo=221659080425\n",
    "# 학습결과 평가 \n",
    "\n",
    "print('Train_Accuracy: ', dt_clf.score(X_train, Y_train),'\\n')\n",
    "\n",
    "accuracy = mt.accuracy_score(Y_test, Y_pred)\n",
    "recall = mt.recall_score(Y_test, Y_pred)\n",
    "precision = mt.precision_score(Y_test, Y_pred)\n",
    "f1_score = mt.f1_score(Y_test, Y_pred)\n",
    "matrix = mt.confusion_matrix(Y_test, Y_pred)\n",
    "\n",
    "print('Accuracy: ', format(accuracy,'.2f'),'\\n')\n",
    "print('Recall: ', format(recall,'.2f'),'\\n')\n",
    "print('Precision: ', format(precision,'.2f'),'\\n')\n",
    "print('F1_score: ', format(f1_score,'.2f'),'\\n')\n",
    "print('Confusion Matrix:','\\n', matrix)"
   ]
  },
  {
   "cell_type": "markdown",
   "id": "2becf5c7",
   "metadata": {},
   "source": [
    "학습 데이터에서는 100%의 정확도, 테스트에서는 80%의 정확도"
   ]
  },
  {
   "cell_type": "code",
   "execution_count": 15,
   "id": "f1a9c176",
   "metadata": {},
   "outputs": [
    {
     "name": "stdout",
     "output_type": "stream",
     "text": [
      "교차검증 평균:  0.8104151557108634\n"
     ]
    }
   ],
   "source": [
    "# 교차검증\n",
    "from sklearn.model_selection import cross_val_score, cross_validate\n",
    "\n",
    "# 각 폴드의 스코어 \n",
    "scores = cross_val_score(dt_clf, X, Y, cv = 5)\n",
    "scores\n",
    "\n",
    "pd.DataFrame(cross_validate(dt_clf, X, Y, cv =5))\n",
    "print('교차검증 평균: ', scores.mean())"
   ]
  },
  {
   "cell_type": "code",
   "execution_count": 16,
   "id": "95fa6a13",
   "metadata": {},
   "outputs": [
    {
     "data": {
      "text/html": [
       "<div>\n",
       "<style scoped>\n",
       "    .dataframe tbody tr th:only-of-type {\n",
       "        vertical-align: middle;\n",
       "    }\n",
       "\n",
       "    .dataframe tbody tr th {\n",
       "        vertical-align: top;\n",
       "    }\n",
       "\n",
       "    .dataframe thead th {\n",
       "        text-align: right;\n",
       "    }\n",
       "</style>\n",
       "<table border=\"1\" class=\"dataframe\">\n",
       "  <thead>\n",
       "    <tr style=\"text-align: right;\">\n",
       "      <th></th>\n",
       "      <th>max_depth</th>\n",
       "      <th>min_samples_split</th>\n",
       "      <th>splitter</th>\n",
       "      <th>mean_test_score</th>\n",
       "    </tr>\n",
       "  </thead>\n",
       "  <tbody>\n",
       "    <tr>\n",
       "      <th>1</th>\n",
       "      <td>3</td>\n",
       "      <td>3</td>\n",
       "      <td>random</td>\n",
       "      <td>0.917146</td>\n",
       "    </tr>\n",
       "    <tr>\n",
       "      <th>3</th>\n",
       "      <td>3</td>\n",
       "      <td>5</td>\n",
       "      <td>random</td>\n",
       "      <td>0.917146</td>\n",
       "    </tr>\n",
       "    <tr>\n",
       "      <th>7</th>\n",
       "      <td>5</td>\n",
       "      <td>5</td>\n",
       "      <td>random</td>\n",
       "      <td>0.910441</td>\n",
       "    </tr>\n",
       "    <tr>\n",
       "      <th>0</th>\n",
       "      <td>3</td>\n",
       "      <td>3</td>\n",
       "      <td>best</td>\n",
       "      <td>0.909968</td>\n",
       "    </tr>\n",
       "    <tr>\n",
       "      <th>2</th>\n",
       "      <td>3</td>\n",
       "      <td>5</td>\n",
       "      <td>best</td>\n",
       "      <td>0.909968</td>\n",
       "    </tr>\n",
       "    <tr>\n",
       "      <th>5</th>\n",
       "      <td>5</td>\n",
       "      <td>3</td>\n",
       "      <td>random</td>\n",
       "      <td>0.909484</td>\n",
       "    </tr>\n",
       "    <tr>\n",
       "      <th>6</th>\n",
       "      <td>5</td>\n",
       "      <td>5</td>\n",
       "      <td>best</td>\n",
       "      <td>0.908528</td>\n",
       "    </tr>\n",
       "    <tr>\n",
       "      <th>4</th>\n",
       "      <td>5</td>\n",
       "      <td>3</td>\n",
       "      <td>best</td>\n",
       "      <td>0.908048</td>\n",
       "    </tr>\n",
       "    <tr>\n",
       "      <th>9</th>\n",
       "      <td>7</td>\n",
       "      <td>3</td>\n",
       "      <td>random</td>\n",
       "      <td>0.907086</td>\n",
       "    </tr>\n",
       "    <tr>\n",
       "      <th>11</th>\n",
       "      <td>7</td>\n",
       "      <td>5</td>\n",
       "      <td>random</td>\n",
       "      <td>0.902297</td>\n",
       "    </tr>\n",
       "    <tr>\n",
       "      <th>8</th>\n",
       "      <td>7</td>\n",
       "      <td>3</td>\n",
       "      <td>best</td>\n",
       "      <td>0.898949</td>\n",
       "    </tr>\n",
       "    <tr>\n",
       "      <th>10</th>\n",
       "      <td>7</td>\n",
       "      <td>5</td>\n",
       "      <td>best</td>\n",
       "      <td>0.898469</td>\n",
       "    </tr>\n",
       "  </tbody>\n",
       "</table>\n",
       "</div>"
      ],
      "text/plain": [
       "    max_depth  min_samples_split splitter  mean_test_score\n",
       "1           3                  3   random         0.917146\n",
       "3           3                  5   random         0.917146\n",
       "7           5                  5   random         0.910441\n",
       "0           3                  3     best         0.909968\n",
       "2           3                  5     best         0.909968\n",
       "5           5                  3   random         0.909484\n",
       "6           5                  5     best         0.908528\n",
       "4           5                  3     best         0.908048\n",
       "9           7                  3   random         0.907086\n",
       "11          7                  5   random         0.902297\n",
       "8           7                  3     best         0.898949\n",
       "10          7                  5     best         0.898469"
      ]
     },
     "execution_count": 16,
     "metadata": {},
     "output_type": "execute_result"
    }
   ],
   "source": [
    "from sklearn.model_selection import GridSearchCV\n",
    "\n",
    "# 테스트하고자 하는 파라미터 값들을 사전타입으로 정의\n",
    "\n",
    "dt_clf = DecisionTreeClassifier(random_state=33)\n",
    "parameters = {'max_depth': [3, 5, 7],\n",
    "              'min_samples_split': [3, 5],\n",
    "              'splitter': ['best', 'random']}\n",
    "\n",
    "grid_dt = GridSearchCV(dt_clf, # estimator 객체,\n",
    "                      param_grid = parameters, cv = 5,\n",
    "                      # n_jobs = -1: 모든 cpu를 사용)\n",
    "                      )\n",
    "\n",
    "grid_dt.fit(X_train, Y_train)\n",
    "\n",
    "result = pd.DataFrame(grid_dt.cv_results_['params'])\n",
    "result['mean_test_score'] = grid_dt.cv_results_['mean_test_score']\n",
    "result.sort_values(by='mean_test_score', ascending=False)"
   ]
  },
  {
   "cell_type": "markdown",
   "id": "95afcd09",
   "metadata": {},
   "source": [
    "결과에서 보면 알 수 있듯이 튜닝한 파라미터의 max_depth = 3, min_samples_split = 3, splitter = 'best' 일때 가장 좋은 성능을 보였습니다. mean_test_score는 각 fold 5개의 평균을 의미합니다.\n",
    "튜닝전 79% -> 90%로 성능이 개선된 것을 확인할 수 있습니다. "
   ]
  },
  {
   "cell_type": "code",
   "execution_count": 17,
   "id": "dfbd27d3",
   "metadata": {},
   "outputs": [],
   "source": [
    "# #데이터를 표준화 시킴\n",
    "# from sklearn.preprocessing import StandardScaler\n",
    "\n",
    "\n",
    "# #훈련용 뿐만 아니라 테스트용도 같이 \n",
    "\n",
    "# ss = StandardScaler()\n",
    "# ss.fit(X_train)\n",
    "# train_scaled = ss.transform(X_train)\n",
    "# test_scaled = ss.transform(X_test)"
   ]
  },
  {
   "cell_type": "code",
   "execution_count": 18,
   "id": "d792697b",
   "metadata": {},
   "outputs": [
    {
     "name": "stdout",
     "output_type": "stream",
     "text": [
      "0.9185823754789272\n",
      "0.9139579349904398\n"
     ]
    }
   ],
   "source": [
    "#로지스틱 회귀 훈련 모형을 적용해서 훈련실시 \n",
    "\n",
    "from sklearn.linear_model import LogisticRegression\n",
    "\n",
    "lr = LogisticRegression()\n",
    "lr.fit(train_scaled, Y_train)\n",
    "\n",
    "#훈련용 데이터로 학습한 결과 \n",
    "print(lr.score(train_scaled, Y_train))\n",
    "\n",
    "#검증용 데이터 -> 훈련용 모델 -> 결과\n",
    "print(lr.score(test_scaled, Y_test))"
   ]
  },
  {
   "cell_type": "code",
   "execution_count": null,
   "id": "5ba8413e",
   "metadata": {},
   "outputs": [],
   "source": []
  },
  {
   "cell_type": "markdown",
   "id": "5d19fdc9",
   "metadata": {},
   "source": [
    "!pip install pydotplus"
   ]
  },
  {
   "cell_type": "code",
   "execution_count": 19,
   "id": "e8f953e6",
   "metadata": {},
   "outputs": [
    {
     "name": "stdout",
     "output_type": "stream",
     "text": [
      "[[-0.2328257  -0.43657004 -0.08066284  0.02643013 -0.04072606  0.08168763\n",
      "  -0.18265536  0.0658265   0.14436889 -0.21902927 -0.14971777 -0.20347305\n",
      "  -0.1745924  -0.2300729  -0.00757831 -0.04188198  0.13283935 -0.02650264\n",
      "   0.02241397 -0.21983749 -0.16889806  0.07841989 -0.39899284 -0.00880225\n",
      "  -0.82816703 -1.43623489 -0.95510431 -0.06788043 -0.49272647  0.4296702\n",
      "   0.15845633  0.27879122  0.09428124  0.09245091  0.21916548  0.15682808\n",
      "   0.22169467  0.27382254 -0.27382254  0.24136732  0.04925176 -0.00831861\n",
      "  -0.29992263 -0.12276299  0.57196418 -0.07586725 -0.70639552]] [-3.01274018]\n"
     ]
    }
   ],
   "source": [
    "#모형의 절편, 기술기\n",
    "\n",
    "print(lr.coef_, lr.intercept_)"
   ]
  },
  {
   "cell_type": "code",
   "execution_count": 20,
   "id": "043651df",
   "metadata": {},
   "outputs": [],
   "source": [
    "# 모델 생성하기\n",
    "# 이제 모델을 생성하자. 당연히 학습 데이터를 가지고 모델을 생성한다.\n",
    "\n",
    "# 방법은 단순선형회귀와 똑같다."
   ]
  },
  {
   "cell_type": "code",
   "execution_count": 21,
   "id": "0fdecad2",
   "metadata": {},
   "outputs": [
    {
     "name": "stdout",
     "output_type": "stream",
     "text": [
      "1.0\n",
      "0.8604206500956023\n"
     ]
    }
   ],
   "source": [
    "#결정트리를 만들어서 모형을 만든다 : 스무고개 하는 방식\n",
    "\n",
    "from sklearn.tree import DecisionTreeClassifier\n",
    "\n",
    "dt = DecisionTreeClassifier(random_state=42)\n",
    "\n",
    "#여기서도 random_statef를 사용했는데 그 이유는? \n",
    "\n",
    "dt.fit(train_scaled, Y_train)\n",
    "\n",
    "print(dt.score(train_scaled, Y_train))\n",
    "print(dt.score(test_scaled, Y_test))"
   ]
  },
  {
   "cell_type": "code",
   "execution_count": 22,
   "id": "b8bdbc81",
   "metadata": {
    "scrolled": true
   },
   "outputs": [
    {
     "data": {
      "image/png": "[encoded data removed]",
      "text/plain": [
       "<Figure size 720x504 with 1 Axes>"
      ]
     },
     "metadata": {
      "needs_background": "light"
     },
     "output_type": "display_data"
    }
   ],
   "source": [
    "#분류 과정을 시각화해서 보여준다.\n",
    "#시간이 좀 걸립니다.\n",
    "\n",
    "import matplotlib.pyplot as plt\n",
    "from sklearn.tree import plot_tree\n",
    "\n",
    "plt.figure(figsize=(10,7))\n",
    "plot_tree(dt)\n",
    "plt.show()"
   ]
  },
  {
   "cell_type": "markdown",
   "id": "65d7c128",
   "metadata": {},
   "source": [
    "가지치기"
   ]
  },
  {
   "cell_type": "code",
   "execution_count": 23,
   "id": "f6ddfb26",
   "metadata": {
    "scrolled": true
   },
   "outputs": [
    {
     "name": "stdout",
     "output_type": "stream",
     "text": [
      "0.9204980842911877\n",
      "0.9177820267686424\n"
     ]
    }
   ],
   "source": [
    "#max_depth=3 (매개변수를 3로 준다 : 로트노투 하나를 제외하고 3개 더 그려줌]\n",
    "\n",
    "dt = DecisionTreeClassifier(max_depth=3, random_state=42)\n",
    "dt.fit(train_scaled, Y_train)\n",
    "\n",
    "print(dt.score(train_scaled, Y_train))\n",
    "print(dt.score(test_scaled, Y_test))"
   ]
  },
  {
   "cell_type": "code",
   "execution_count": 24,
   "id": "045f4c4a",
   "metadata": {},
   "outputs": [
    {
     "name": "stdout",
     "output_type": "stream",
     "text": [
      "0.9204980842911877\n",
      "0.9177820267686424\n"
     ]
    }
   ],
   "source": [
    "dt = DecisionTreeClassifier(max_depth=3, random_state=42)\n",
    "dt.fit(X_train, Y_train)\n",
    "\n",
    "print(dt.score(X_train, Y_train))\n",
    "print(dt.score(X_test, Y_test))"
   ]
  },
  {
   "cell_type": "code",
   "execution_count": 25,
   "id": "046e8e7c",
   "metadata": {},
   "outputs": [
    {
     "name": "stdout",
     "output_type": "stream",
     "text": [
      "[0.         0.         0.         0.         0.         0.\n",
      " 0.         0.         0.         0.         0.         0.\n",
      " 0.         0.         0.         0.         0.         0.\n",
      " 0.         0.         0.         0.17549601 0.         0.\n",
      " 0.         0.         0.10959243 0.         0.         0.\n",
      " 0.         0.         0.         0.         0.         0.\n",
      " 0.         0.         0.18684147 0.         0.27345564 0.13766092\n",
      " 0.11695354 0.         0.         0.         0.        ]\n"
     ]
    }
   ],
   "source": [
    "#어떤 요인이 크게 작용했는지 볼 수 있음 \n",
    "print(dt.feature_importances_)"
   ]
  },
  {
   "cell_type": "code",
   "execution_count": 26,
   "id": "87d4f841",
   "metadata": {},
   "outputs": [
    {
     "data": {
      "text/html": [
       "<div>\n",
       "<style scoped>\n",
       "    .dataframe tbody tr th:only-of-type {\n",
       "        vertical-align: middle;\n",
       "    }\n",
       "\n",
       "    .dataframe tbody tr th {\n",
       "        vertical-align: top;\n",
       "    }\n",
       "\n",
       "    .dataframe thead th {\n",
       "        text-align: right;\n",
       "    }\n",
       "</style>\n",
       "<table border=\"1\" class=\"dataframe\">\n",
       "  <thead>\n",
       "    <tr style=\"text-align: right;\">\n",
       "      <th></th>\n",
       "      <th>사망</th>\n",
       "      <th>교통사고비용</th>\n",
       "      <th>사고시각_아침</th>\n",
       "      <th>사고시각_오후</th>\n",
       "      <th>사고시각_저녁</th>\n",
       "      <th>일일 교통량</th>\n",
       "      <th>일일 교통량 평균</th>\n",
       "      <th>일일 속도평균</th>\n",
       "      <th>일일 속도75%</th>\n",
       "      <th>고속도로 교통량</th>\n",
       "      <th>...</th>\n",
       "      <th>피해_화물</th>\n",
       "      <th>피해_그외</th>\n",
       "      <th>위험운전행동</th>\n",
       "      <th>주행거리당 사망수</th>\n",
       "      <th>시도별_진료비</th>\n",
       "      <th>연령별_가해진료비</th>\n",
       "      <th>연령별_피해진료비</th>\n",
       "      <th>화물_관용</th>\n",
       "      <th>화물_자가용</th>\n",
       "      <th>화물_영업용</th>\n",
       "    </tr>\n",
       "  </thead>\n",
       "  <tbody>\n",
       "    <tr>\n",
       "      <th>0</th>\n",
       "      <td>0</td>\n",
       "      <td>5245000.0</td>\n",
       "      <td>0</td>\n",
       "      <td>0</td>\n",
       "      <td>1</td>\n",
       "      <td>0.684818</td>\n",
       "      <td>0.461806</td>\n",
       "      <td>0.786667</td>\n",
       "      <td>0.175439</td>\n",
       "      <td>0.393140</td>\n",
       "      <td>...</td>\n",
       "      <td>1</td>\n",
       "      <td>0</td>\n",
       "      <td>0.000000</td>\n",
       "      <td>0.194969</td>\n",
       "      <td>1.000000</td>\n",
       "      <td>0.023318</td>\n",
       "      <td>0.399606</td>\n",
       "      <td>0.091818</td>\n",
       "      <td>0.095142</td>\n",
       "      <td>0.103068</td>\n",
       "    </tr>\n",
       "    <tr>\n",
       "      <th>1</th>\n",
       "      <td>0</td>\n",
       "      <td>26225000.0</td>\n",
       "      <td>0</td>\n",
       "      <td>0</td>\n",
       "      <td>1</td>\n",
       "      <td>0.684607</td>\n",
       "      <td>0.500000</td>\n",
       "      <td>0.906667</td>\n",
       "      <td>0.263158</td>\n",
       "      <td>0.535620</td>\n",
       "      <td>...</td>\n",
       "      <td>1</td>\n",
       "      <td>0</td>\n",
       "      <td>0.000000</td>\n",
       "      <td>0.855346</td>\n",
       "      <td>0.794518</td>\n",
       "      <td>0.023318</td>\n",
       "      <td>0.201880</td>\n",
       "      <td>0.404000</td>\n",
       "      <td>0.310168</td>\n",
       "      <td>0.161922</td>\n",
       "    </tr>\n",
       "    <tr>\n",
       "      <th>2</th>\n",
       "      <td>0</td>\n",
       "      <td>20980000.0</td>\n",
       "      <td>0</td>\n",
       "      <td>1</td>\n",
       "      <td>0</td>\n",
       "      <td>0.669619</td>\n",
       "      <td>0.583333</td>\n",
       "      <td>0.840000</td>\n",
       "      <td>0.192982</td>\n",
       "      <td>0.569921</td>\n",
       "      <td>...</td>\n",
       "      <td>1</td>\n",
       "      <td>0</td>\n",
       "      <td>0.000000</td>\n",
       "      <td>0.490566</td>\n",
       "      <td>0.425363</td>\n",
       "      <td>0.023318</td>\n",
       "      <td>0.122428</td>\n",
       "      <td>0.432000</td>\n",
       "      <td>0.372638</td>\n",
       "      <td>0.200358</td>\n",
       "    </tr>\n",
       "    <tr>\n",
       "      <th>3</th>\n",
       "      <td>0</td>\n",
       "      <td>5245000.0</td>\n",
       "      <td>0</td>\n",
       "      <td>0</td>\n",
       "      <td>0</td>\n",
       "      <td>0.669619</td>\n",
       "      <td>0.593750</td>\n",
       "      <td>0.866667</td>\n",
       "      <td>0.201754</td>\n",
       "      <td>0.089710</td>\n",
       "      <td>...</td>\n",
       "      <td>1</td>\n",
       "      <td>0</td>\n",
       "      <td>0.000000</td>\n",
       "      <td>0.880503</td>\n",
       "      <td>0.291662</td>\n",
       "      <td>0.023318</td>\n",
       "      <td>0.159558</td>\n",
       "      <td>0.503091</td>\n",
       "      <td>0.411119</td>\n",
       "      <td>0.192247</td>\n",
       "    </tr>\n",
       "    <tr>\n",
       "      <th>4</th>\n",
       "      <td>0</td>\n",
       "      <td>5245000.0</td>\n",
       "      <td>0</td>\n",
       "      <td>0</td>\n",
       "      <td>1</td>\n",
       "      <td>0.669197</td>\n",
       "      <td>0.614583</td>\n",
       "      <td>0.800000</td>\n",
       "      <td>0.192982</td>\n",
       "      <td>0.994723</td>\n",
       "      <td>...</td>\n",
       "      <td>1</td>\n",
       "      <td>0</td>\n",
       "      <td>0.000000</td>\n",
       "      <td>0.880503</td>\n",
       "      <td>0.291662</td>\n",
       "      <td>0.023318</td>\n",
       "      <td>0.159558</td>\n",
       "      <td>0.502182</td>\n",
       "      <td>0.412677</td>\n",
       "      <td>0.193854</td>\n",
       "    </tr>\n",
       "    <tr>\n",
       "      <th>...</th>\n",
       "      <td>...</td>\n",
       "      <td>...</td>\n",
       "      <td>...</td>\n",
       "      <td>...</td>\n",
       "      <td>...</td>\n",
       "      <td>...</td>\n",
       "      <td>...</td>\n",
       "      <td>...</td>\n",
       "      <td>...</td>\n",
       "      <td>...</td>\n",
       "      <td>...</td>\n",
       "      <td>...</td>\n",
       "      <td>...</td>\n",
       "      <td>...</td>\n",
       "      <td>...</td>\n",
       "      <td>...</td>\n",
       "      <td>...</td>\n",
       "      <td>...</td>\n",
       "      <td>...</td>\n",
       "      <td>...</td>\n",
       "      <td>...</td>\n",
       "    </tr>\n",
       "    <tr>\n",
       "      <th>2606</th>\n",
       "      <td>0</td>\n",
       "      <td>2582700.0</td>\n",
       "      <td>0</td>\n",
       "      <td>1</td>\n",
       "      <td>0</td>\n",
       "      <td>0.670252</td>\n",
       "      <td>0.607639</td>\n",
       "      <td>0.773333</td>\n",
       "      <td>0.201754</td>\n",
       "      <td>0.325858</td>\n",
       "      <td>...</td>\n",
       "      <td>0</td>\n",
       "      <td>1</td>\n",
       "      <td>0.022523</td>\n",
       "      <td>0.264151</td>\n",
       "      <td>0.233429</td>\n",
       "      <td>0.100130</td>\n",
       "      <td>0.000000</td>\n",
       "      <td>0.971818</td>\n",
       "      <td>0.989010</td>\n",
       "      <td>0.965391</td>\n",
       "    </tr>\n",
       "    <tr>\n",
       "      <th>2607</th>\n",
       "      <td>0</td>\n",
       "      <td>66502400.0</td>\n",
       "      <td>0</td>\n",
       "      <td>0</td>\n",
       "      <td>0</td>\n",
       "      <td>0.668880</td>\n",
       "      <td>0.482639</td>\n",
       "      <td>0.773333</td>\n",
       "      <td>0.175439</td>\n",
       "      <td>0.325858</td>\n",
       "      <td>...</td>\n",
       "      <td>0</td>\n",
       "      <td>1</td>\n",
       "      <td>0.022523</td>\n",
       "      <td>0.075472</td>\n",
       "      <td>0.397871</td>\n",
       "      <td>0.062355</td>\n",
       "      <td>0.062355</td>\n",
       "      <td>0.195636</td>\n",
       "      <td>0.217672</td>\n",
       "      <td>0.249719</td>\n",
       "    </tr>\n",
       "    <tr>\n",
       "      <th>2608</th>\n",
       "      <td>0</td>\n",
       "      <td>5245000.0</td>\n",
       "      <td>1</td>\n",
       "      <td>0</td>\n",
       "      <td>0</td>\n",
       "      <td>0.668880</td>\n",
       "      <td>0.482639</td>\n",
       "      <td>0.773333</td>\n",
       "      <td>0.175439</td>\n",
       "      <td>0.325858</td>\n",
       "      <td>...</td>\n",
       "      <td>0</td>\n",
       "      <td>1</td>\n",
       "      <td>0.022523</td>\n",
       "      <td>0.163522</td>\n",
       "      <td>0.190827</td>\n",
       "      <td>0.100130</td>\n",
       "      <td>0.452580</td>\n",
       "      <td>0.080545</td>\n",
       "      <td>0.070409</td>\n",
       "      <td>0.067215</td>\n",
       "    </tr>\n",
       "    <tr>\n",
       "      <th>2609</th>\n",
       "      <td>0</td>\n",
       "      <td>5245000.0</td>\n",
       "      <td>1</td>\n",
       "      <td>0</td>\n",
       "      <td>0</td>\n",
       "      <td>0.670147</td>\n",
       "      <td>0.510417</td>\n",
       "      <td>0.786667</td>\n",
       "      <td>0.192982</td>\n",
       "      <td>0.325858</td>\n",
       "      <td>...</td>\n",
       "      <td>0</td>\n",
       "      <td>1</td>\n",
       "      <td>0.022523</td>\n",
       "      <td>0.163522</td>\n",
       "      <td>0.190827</td>\n",
       "      <td>0.062355</td>\n",
       "      <td>0.062355</td>\n",
       "      <td>0.080545</td>\n",
       "      <td>0.070409</td>\n",
       "      <td>0.067215</td>\n",
       "    </tr>\n",
       "    <tr>\n",
       "      <th>2610</th>\n",
       "      <td>0</td>\n",
       "      <td>135587500.0</td>\n",
       "      <td>1</td>\n",
       "      <td>0</td>\n",
       "      <td>0</td>\n",
       "      <td>0.670252</td>\n",
       "      <td>0.576389</td>\n",
       "      <td>0.773333</td>\n",
       "      <td>0.192982</td>\n",
       "      <td>0.325858</td>\n",
       "      <td>...</td>\n",
       "      <td>1</td>\n",
       "      <td>0</td>\n",
       "      <td>0.022523</td>\n",
       "      <td>0.264151</td>\n",
       "      <td>0.233429</td>\n",
       "      <td>0.322070</td>\n",
       "      <td>0.100130</td>\n",
       "      <td>0.971818</td>\n",
       "      <td>0.989010</td>\n",
       "      <td>0.965391</td>\n",
       "    </tr>\n",
       "  </tbody>\n",
       "</table>\n",
       "<p>2611 rows × 50 columns</p>\n",
       "</div>"
      ],
      "text/plain": [
       "      사망       교통사고비용  사고시각_아침  사고시각_오후  사고시각_저녁    일일 교통량  일일 교통량 평균  \\\n",
       "0      0    5245000.0        0        0        1  0.684818   0.461806   \n",
       "1      0   26225000.0        0        0        1  0.684607   0.500000   \n",
       "2      0   20980000.0        0        1        0  0.669619   0.583333   \n",
       "3      0    5245000.0        0        0        0  0.669619   0.593750   \n",
       "4      0    5245000.0        0        0        1  0.669197   0.614583   \n",
       "...   ..          ...      ...      ...      ...       ...        ...   \n",
       "2606   0    2582700.0        0        1        0  0.670252   0.607639   \n",
       "2607   0   66502400.0        0        0        0  0.668880   0.482639   \n",
       "2608   0    5245000.0        1        0        0  0.668880   0.482639   \n",
       "2609   0    5245000.0        1        0        0  0.670147   0.510417   \n",
       "2610   0  135587500.0        1        0        0  0.670252   0.576389   \n",
       "\n",
       "       일일 속도평균  일일 속도75%  고속도로 교통량  ...  피해_화물  피해_그외    위험운전행동  주행거리당 사망수  \\\n",
       "0     0.786667  0.175439  0.393140  ...      1      0  0.000000   0.194969   \n",
       "1     0.906667  0.263158  0.535620  ...      1      0  0.000000   0.855346   \n",
       "2     0.840000  0.192982  0.569921  ...      1      0  0.000000   0.490566   \n",
       "3     0.866667  0.201754  0.089710  ...      1      0  0.000000   0.880503   \n",
       "4     0.800000  0.192982  0.994723  ...      1      0  0.000000   0.880503   \n",
       "...        ...       ...       ...  ...    ...    ...       ...        ...   \n",
       "2606  0.773333  0.201754  0.325858  ...      0      1  0.022523   0.264151   \n",
       "2607  0.773333  0.175439  0.325858  ...      0      1  0.022523   0.075472   \n",
       "2608  0.773333  0.175439  0.325858  ...      0      1  0.022523   0.163522   \n",
       "2609  0.786667  0.192982  0.325858  ...      0      1  0.022523   0.163522   \n",
       "2610  0.773333  0.192982  0.325858  ...      1      0  0.022523   0.264151   \n",
       "\n",
       "       시도별_진료비  연령별_가해진료비  연령별_피해진료비     화물_관용    화물_자가용    화물_영업용  \n",
       "0     1.000000   0.023318   0.399606  0.091818  0.095142  0.103068  \n",
       "1     0.794518   0.023318   0.201880  0.404000  0.310168  0.161922  \n",
       "2     0.425363   0.023318   0.122428  0.432000  0.372638  0.200358  \n",
       "3     0.291662   0.023318   0.159558  0.503091  0.411119  0.192247  \n",
       "4     0.291662   0.023318   0.159558  0.502182  0.412677  0.193854  \n",
       "...        ...        ...        ...       ...       ...       ...  \n",
       "2606  0.233429   0.100130   0.000000  0.971818  0.989010  0.965391  \n",
       "2607  0.397871   0.062355   0.062355  0.195636  0.217672  0.249719  \n",
       "2608  0.190827   0.100130   0.452580  0.080545  0.070409  0.067215  \n",
       "2609  0.190827   0.062355   0.062355  0.080545  0.070409  0.067215  \n",
       "2610  0.233429   0.322070   0.100130  0.971818  0.989010  0.965391  \n",
       "\n",
       "[2611 rows x 50 columns]"
      ]
     },
     "execution_count": 26,
     "metadata": {},
     "output_type": "execute_result"
    }
   ],
   "source": [
    "df"
   ]
  },
  {
   "cell_type": "code",
   "execution_count": 27,
   "id": "0e66152a",
   "metadata": {},
   "outputs": [
    {
     "name": "stdout",
     "output_type": "stream",
     "text": [
      "0.9545019157088123\n",
      "0.9024856596558317\n"
     ]
    }
   ],
   "source": [
    "dt = DecisionTreeClassifier(min_impurity_decrease=0.0005, random_state=42)\n",
    "dt.fit(X_train, Y_train)\n",
    "\n",
    "print(dt.score(X_train, Y_train))\n",
    "print(dt.score(X_test, Y_test))"
   ]
  },
  {
   "cell_type": "code",
   "execution_count": 28,
   "id": "3fd8ff76",
   "metadata": {},
   "outputs": [],
   "source": [
    "import pickle\n",
    "\n",
    "with open('D:/work/python/a-truck-accident/decisionTree.pickle', 'wb') as f: #모델 저장해두기(피클)\n",
    "    pickle.dump(dt, f)"
   ]
  },
  {
   "cell_type": "code",
   "execution_count": null,
   "id": "73151f73",
   "metadata": {},
   "outputs": [],
   "source": []
  },
  {
   "cell_type": "code",
   "execution_count": null,
   "id": "545fa6f1",
   "metadata": {},
   "outputs": [],
   "source": []
  }
 ],
 "metadata": {
  "kernelspec": {
   "display_name": "Python 3 (ipykernel)",
   "language": "python",
   "name": "python3"
  },
  "language_info": {
   "codemirror_mode": {
    "name": "ipython",
    "version": 3
   },
   "file_extension": ".py",
   "mimetype": "text/x-python",
   "name": "python",
   "nbconvert_exporter": "python",
   "pygments_lexer": "ipython3",
   "version": "3.9.7"
  }
 },
 "nbformat": 4,
 "nbformat_minor": 5
}
